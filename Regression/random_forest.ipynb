{
 "cells": [
  {
   "cell_type": "code",
   "execution_count": 2,
   "metadata": {},
   "outputs": [],
   "source": [
    "import torch\n",
    "import torch.nn as nn\n",
    "import torch.optim as optim\n",
    "from torch.utils.data import TensorDataset, DataLoader\n",
    "import numpy as np\n",
    "from sklearn.metrics import mean_squared_error, r2_score\n",
    "\n",
    "# 加载实际训练数据和标签\n",
    "train_data = np.load('train_data.npy')  # 替换为实际的文件路径\n",
    "train_labels = np.load('train_labels.npy')  # 替换为实际的文件路径\n",
    "# Convert to Tensor type\n",
    "train_tensors = torch.tensor(train_data, dtype=torch.float32)\n",
    "train_labels = torch.tensor(train_labels, dtype=torch.float32)\n",
    "train_dataset = TensorDataset(train_tensors, train_labels)\n"
   ]
  },
  {
   "cell_type": "code",
   "execution_count": 3,
   "metadata": {},
   "outputs": [
    {
     "name": "stdout",
     "output_type": "stream",
     "text": [
      "Random Forest MSE:  1.1243385943030988\n",
      "Random Forest R2:  0.36320336919857477\n"
     ]
    },
    {
     "data": {
      "text/plain": [
       "['rf_model.pkl']"
      ]
     },
     "execution_count": 3,
     "metadata": {},
     "output_type": "execute_result"
    }
   ],
   "source": [
    "# use random forest to predict the test data\n",
    "from sklearn.ensemble import RandomForestRegressor\n",
    "from sklearn.model_selection import train_test_split\n",
    "from sklearn.metrics import mean_squared_error, r2_score\n",
    "\n",
    "X_train, X_test, y_train, y_test = train_test_split(train_data, train_labels, test_size=0.2, random_state=42)\n",
    "rf = RandomForestRegressor(n_estimators=100, random_state=42)\n",
    "rf.fit(X_train, y_train)\n",
    "y_pred = rf.predict(X_test)\n",
    "mse = mean_squared_error(y_test, y_pred)\n",
    "r2 = r2_score(y_test, y_pred)\n",
    "print('Random Forest MSE: ', mse)\n",
    "print('Random Forest R2: ', r2)\n",
    "\n",
    "# save the model\n",
    "import joblib\n",
    "joblib.dump(rf, 'rf_model.pkl')"
   ]
  },
  {
   "cell_type": "code",
   "execution_count": 4,
   "metadata": {},
   "outputs": [
    {
     "name": "stdout",
     "output_type": "stream",
     "text": [
      "Test MSE:  1.5045419353412504\n",
      "Test R2:  0.27339801365117733\n",
      "Test Predictions:  [3.4  1.96 2.23 ... 2.31 3.53 3.05]\n"
     ]
    }
   ],
   "source": [
    "# use the model to predict the test data\n",
    "test_data = np.load('test_data.npy')  # 替换为实际的文件路径\n",
    "test_labels = np.load('test_labels.npy')  # 替换为实际的文件路径\n",
    "test_pred = rf.predict(test_data)\n",
    "print('Test MSE: ', mean_squared_error(test_labels, test_pred))\n",
    "print('Test R2: ', r2_score(test_labels, test_pred))\n",
    "print('Test Predictions: ', test_pred)\n",
    " "
   ]
  }
 ],
 "metadata": {
  "kernelspec": {
   "display_name": "FER",
   "language": "python",
   "name": "python3"
  },
  "language_info": {
   "codemirror_mode": {
    "name": "ipython",
    "version": 3
   },
   "file_extension": ".py",
   "mimetype": "text/x-python",
   "name": "python",
   "nbconvert_exporter": "python",
   "pygments_lexer": "ipython3",
   "version": "3.8.19"
  }
 },
 "nbformat": 4,
 "nbformat_minor": 2
}
